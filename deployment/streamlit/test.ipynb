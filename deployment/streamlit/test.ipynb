{
 "cells": [
  {
   "cell_type": "code",
   "execution_count": 5,
   "id": "420d605d",
   "metadata": {},
   "outputs": [],
   "source": [
    "from langdetect import detect\n",
    "from deep_translator import GoogleTranslator\n",
    "from text import greeting"
   ]
  },
  {
   "cell_type": "code",
   "execution_count": null,
   "id": "1a155d7d",
   "metadata": {},
   "outputs": [
    {
     "data": {
      "text/plain": [
       "'it cosa posso chiedere'"
      ]
     },
     "execution_count": 2,
     "metadata": {},
     "output_type": "execute_result"
    }
   ],
   "source": [
    "def translate_text(target, text):\n",
    "    supported_languages = ['en', 'id', 'fr', 'de', 'th', 'es', 'it', 'pt', 'ja', 'ko', 'zh-cn', 'zh-tw', 'ru']\n",
    "    try:\n",
    "        lang = detect(target)\n",
    "        if lang in supported_languages:\n",
    "            translated = GoogleTranslator(source='auto', target=lang).translate(text)\n",
    "            return f\"{lang} {translated}\"\n",
    "        else:\n",
    "            return text\n",
    "    except Exception as e:\n",
    "        return text\n",
    "    \n",
    "translate_text(greeting)"
   ]
  }
 ],
 "metadata": {
  "kernelspec": {
   "display_name": "py10",
   "language": "python",
   "name": "python3"
  },
  "language_info": {
   "codemirror_mode": {
    "name": "ipython",
    "version": 3
   },
   "file_extension": ".py",
   "mimetype": "text/x-python",
   "name": "python",
   "nbconvert_exporter": "python",
   "pygments_lexer": "ipython3",
   "version": "3.10.16"
  }
 },
 "nbformat": 4,
 "nbformat_minor": 5
}
