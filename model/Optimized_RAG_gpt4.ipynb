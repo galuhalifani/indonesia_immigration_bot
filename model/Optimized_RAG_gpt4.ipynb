{
  "cells": [
    {
      "cell_type": "code",
      "execution_count": 1,
      "metadata": {
        "id": "49nbVtrRPyI8"
      },
      "outputs": [],
      "source": [
        "import pandas as pd\n",
        "from pymongo import MongoClient\n",
        "from langchain_mongodb import MongoDBAtlasVectorSearch\n",
        "from langchain_openai import OpenAIEmbeddings, ChatOpenAI\n",
        "from langchain.chains import RetrievalQA\n",
        "from langchain.prompts import PromptTemplate\n",
        "from dotenv import load_dotenv\n",
        "import os\n",
        "import re"
      ]
    },
    {
      "cell_type": "code",
      "execution_count": 2,
      "metadata": {
        "id": "hStWIhZlPyCm"
      },
      "outputs": [],
      "source": [
        "# Load Environment Variables\n",
        "load_dotenv(override=True)\n",
        "MONGODB_URI=os.getenv(\"MONGO_URI\")\n",
        "OPENAI_KEY=os.getenv(\"OPENAI_API_KEY\")"
      ]
    },
    {
      "cell_type": "code",
      "execution_count": 3,
      "metadata": {
        "id": "G6CHaKCTPx5P"
      },
      "outputs": [
        {
          "ename": "OpenAIError",
          "evalue": "The api_key client option must be set either by passing api_key to the client or by setting the OPENAI_API_KEY environment variable",
          "output_type": "error",
          "traceback": [
            "\u001b[1;31m---------------------------------------------------------------------------\u001b[0m",
            "\u001b[1;31mOpenAIError\u001b[0m                               Traceback (most recent call last)",
            "Cell \u001b[1;32mIn[3], line 2\u001b[0m\n\u001b[0;32m      1\u001b[0m \u001b[38;5;66;03m# Initialize Embeddings\u001b[39;00m\n\u001b[1;32m----> 2\u001b[0m embeddings \u001b[38;5;241m=\u001b[39m \u001b[43mOpenAIEmbeddings\u001b[49m\u001b[43m(\u001b[49m\n\u001b[0;32m      3\u001b[0m \u001b[43m    \u001b[49m\u001b[43mmodel\u001b[49m\u001b[38;5;241;43m=\u001b[39;49m\u001b[38;5;124;43m\"\u001b[39;49m\u001b[38;5;124;43mtext-embedding-3-small\u001b[39;49m\u001b[38;5;124;43m\"\u001b[39;49m\u001b[43m,\u001b[49m\n\u001b[0;32m      4\u001b[0m \u001b[43m    \u001b[49m\u001b[43mopenai_api_key\u001b[49m\u001b[38;5;241;43m=\u001b[39;49m\u001b[43mOPENAI_KEY\u001b[49m\u001b[43m,\u001b[49m\n\u001b[0;32m      5\u001b[0m \u001b[43m    \u001b[49m\u001b[43mdimensions\u001b[49m\u001b[38;5;241;43m=\u001b[39;49m\u001b[38;5;241;43m1536\u001b[39;49m\n\u001b[0;32m      6\u001b[0m \u001b[43m)\u001b[49m\n",
            "    \u001b[1;31m[... skipping hidden 1 frame]\u001b[0m\n",
            "File \u001b[1;32mc:\\Users\\galuh\\miniconda\\envs\\py10\\lib\\site-packages\\langchain_openai\\embeddings\\base.py:326\u001b[0m, in \u001b[0;36mOpenAIEmbeddings.validate_environment\u001b[1;34m(self)\u001b[0m\n\u001b[0;32m    324\u001b[0m         \u001b[38;5;28mself\u001b[39m\u001b[38;5;241m.\u001b[39mhttp_client \u001b[38;5;241m=\u001b[39m httpx\u001b[38;5;241m.\u001b[39mClient(proxy\u001b[38;5;241m=\u001b[39m\u001b[38;5;28mself\u001b[39m\u001b[38;5;241m.\u001b[39mopenai_proxy)\n\u001b[0;32m    325\u001b[0m     sync_specific \u001b[38;5;241m=\u001b[39m {\u001b[38;5;124m\"\u001b[39m\u001b[38;5;124mhttp_client\u001b[39m\u001b[38;5;124m\"\u001b[39m: \u001b[38;5;28mself\u001b[39m\u001b[38;5;241m.\u001b[39mhttp_client}\n\u001b[1;32m--> 326\u001b[0m     \u001b[38;5;28mself\u001b[39m\u001b[38;5;241m.\u001b[39mclient \u001b[38;5;241m=\u001b[39m openai\u001b[38;5;241m.\u001b[39mOpenAI(\u001b[38;5;241m*\u001b[39m\u001b[38;5;241m*\u001b[39mclient_params, \u001b[38;5;241m*\u001b[39m\u001b[38;5;241m*\u001b[39msync_specific)\u001b[38;5;241m.\u001b[39membeddings  \u001b[38;5;66;03m# type: ignore[arg-type]\u001b[39;00m\n\u001b[0;32m    327\u001b[0m \u001b[38;5;28;01mif\u001b[39;00m \u001b[38;5;129;01mnot\u001b[39;00m \u001b[38;5;28mself\u001b[39m\u001b[38;5;241m.\u001b[39masync_client:\n\u001b[0;32m    328\u001b[0m     \u001b[38;5;28;01mif\u001b[39;00m \u001b[38;5;28mself\u001b[39m\u001b[38;5;241m.\u001b[39mopenai_proxy \u001b[38;5;129;01mand\u001b[39;00m \u001b[38;5;129;01mnot\u001b[39;00m \u001b[38;5;28mself\u001b[39m\u001b[38;5;241m.\u001b[39mhttp_async_client:\n",
            "File \u001b[1;32mc:\\Users\\galuh\\miniconda\\envs\\py10\\lib\\site-packages\\openai\\_client.py:116\u001b[0m, in \u001b[0;36mOpenAI.__init__\u001b[1;34m(self, api_key, organization, project, base_url, websocket_base_url, timeout, max_retries, default_headers, default_query, http_client, _strict_response_validation)\u001b[0m\n\u001b[0;32m    114\u001b[0m     api_key \u001b[38;5;241m=\u001b[39m os\u001b[38;5;241m.\u001b[39menviron\u001b[38;5;241m.\u001b[39mget(\u001b[38;5;124m\"\u001b[39m\u001b[38;5;124mOPENAI_API_KEY\u001b[39m\u001b[38;5;124m\"\u001b[39m)\n\u001b[0;32m    115\u001b[0m \u001b[38;5;28;01mif\u001b[39;00m api_key \u001b[38;5;129;01mis\u001b[39;00m \u001b[38;5;28;01mNone\u001b[39;00m:\n\u001b[1;32m--> 116\u001b[0m     \u001b[38;5;28;01mraise\u001b[39;00m OpenAIError(\n\u001b[0;32m    117\u001b[0m         \u001b[38;5;124m\"\u001b[39m\u001b[38;5;124mThe api_key client option must be set either by passing api_key to the client or by setting the OPENAI_API_KEY environment variable\u001b[39m\u001b[38;5;124m\"\u001b[39m\n\u001b[0;32m    118\u001b[0m     )\n\u001b[0;32m    119\u001b[0m \u001b[38;5;28mself\u001b[39m\u001b[38;5;241m.\u001b[39mapi_key \u001b[38;5;241m=\u001b[39m api_key\n\u001b[0;32m    121\u001b[0m \u001b[38;5;28;01mif\u001b[39;00m organization \u001b[38;5;129;01mis\u001b[39;00m \u001b[38;5;28;01mNone\u001b[39;00m:\n",
            "\u001b[1;31mOpenAIError\u001b[0m: The api_key client option must be set either by passing api_key to the client or by setting the OPENAI_API_KEY environment variable"
          ]
        }
      ],
      "source": [
        "# Initialize Embeddings\n",
        "embeddings = OpenAIEmbeddings(\n",
        "    model=\"text-embedding-3-small\",\n",
        "    openai_api_key=OPENAI_KEY,\n",
        "    dimensions=1536\n",
        ")"
      ]
    },
    {
      "cell_type": "code",
      "execution_count": null,
      "metadata": {
        "id": "HrJqw0uATeee"
      },
      "outputs": [],
      "source": [
        "# MongoDB Connection\n",
        "client = MongoClient(MONGODB_URI)\n",
        "collection = client['instant_bot']['instant']"
      ]
    },
    {
      "cell_type": "code",
      "execution_count": null,
      "metadata": {},
      "outputs": [
        {
          "data": {
            "text/plain": [
              "['instant_bot', 'admin', 'local']"
            ]
          },
          "execution_count": 203,
          "metadata": {},
          "output_type": "execute_result"
        }
      ],
      "source": [
        "client.list_database_names()"
      ]
    },
    {
      "cell_type": "code",
      "execution_count": null,
      "metadata": {
        "id": "Rvwl9QasTif_"
      },
      "outputs": [],
      "source": [
        "# Vector Store Configuration\n",
        "vector_store = MongoDBAtlasVectorSearch(\n",
        "    collection=collection,\n",
        "    embedding=embeddings,\n",
        "    index_name='vector_index',\n",
        "    text_key=\"text\"\n",
        ")"
      ]
    },
    {
      "cell_type": "code",
      "execution_count": null,
      "metadata": {
        "id": "iUAeKROUTkDu"
      },
      "outputs": [],
      "source": [
        "from langchain.prompts import PromptTemplate\n",
        "\n",
        "# Optimized Professional Prompt Template\n",
        "PROFESSIONAL_PROMPT = PromptTemplate(\n",
        "    input_variables=[\"context\", \"question\"],\n",
        "    template=\"\"\"\n",
        "    You are an immigration assistant helping users with questions about Indonesian immigration services, procedures, and regulations.\n",
        "    You are NOT affiliated with the Indonesian government or Immigration Office. Do not imply any official role.\n",
        "\n",
        "    Your main tasks:\n",
        "    - Answer questions about Indonesian immigration\n",
        "    - Explain procedures or regulations in simple terms\n",
        "    - Guide users through steps, documents, or troubleshooting\n",
        "    - Translate queries to Indonesian for context searching, then respond in the original query language\n",
        "\n",
        "    Situational behavior:\n",
        "    - If user asks “what was my last question,” refer to last HumanMessage\n",
        "    - If user asks “what was your last answer,” refer to last AIMessage\n",
        "    - If input looks like feedback, confirm and explain the format: “helpful” or “not helpful” followed by comment\n",
        "    - If asked about storing conversation history, clarify it's only stored session-based and erased after 24 hours of inactivity or session closure\n",
        "    - If multiple questions are asked, try answering all or provide conditional possibilities.\n",
        "\n",
        "    Response rules:\n",
        "    - Answer in the original language of the question, and if unsure respond in English\n",
        "    - Only respond to questions about Indonesian immigration; politely decline others\n",
        "    - Be formal, helpful, and concise\n",
        "    - For vague or unclear questions, politely ask for clarification, except for questions about the bot itself\n",
        "    - For very specific cases, give general info and suggest official support (with link if available)\n",
        "    - Include Reference starting with “Read more at [Reference URL]” on a new line if a reference exists — omit if not\n",
        "    - Do not label the question or the context — output only the answer\n",
        "    - Answer questions in a detailed manner: include list of documents required, requirements, conditional situations, or step-by-step instructions if applicable.\n",
        "    - End your answer with:  \n",
        "    (two line breaks)  \n",
        "    To provide feedback, you can type 'helpful' or 'not helpful' followed by your comment.\n",
        "        \n",
        "    Context: {context}\n",
        "\n",
        "    question: {question}\n",
        "\n",
        "    answer:\n",
        "    \"\"\"\n",
        ")"
      ]
    },
    {
      "cell_type": "code",
      "execution_count": null,
      "metadata": {
        "id": "_IDJP8XmToDM"
      },
      "outputs": [],
      "source": [
        "# Model Configuration dengan GPT-4\n",
        "llm = ChatOpenAI(\n",
        "    model_name=\"gpt-4\",\n",
        "    openai_api_key=OPENAI_KEY,\n",
        "    temperature=0,\n",
        ")"
      ]
    },
    {
      "cell_type": "code",
      "execution_count": null,
      "metadata": {
        "id": "IzzxWpoxTy-0"
      },
      "outputs": [],
      "source": [
        "faq_retriever = vector_store.as_retriever(\n",
        "    search_type=\"similarity\",\n",
        "    search_kwargs={\n",
        "        \"k\": 3,\n",
        "        \"score_threshold\": 0.8,\n",
        "        \"vector_search_kwargs\": {\n",
        "            \"filter\": {\"type\": \"faq\"}\n",
        "        }\n",
        "    }\n",
        ")\n",
        "\n",
        "web_retriever = vector_store.as_retriever(\n",
        "    search_type=\"similarity\",\n",
        "    search_kwargs={\n",
        "        \"k\": 3,\n",
        "        \"score_threshold\": 0.8,\n",
        "        \"vector_search_kwargs\": {\n",
        "            \"filter\": {\"type\": \"web\"}\n",
        "        }\n",
        "    }\n",
        ")\n",
        "\n",
        "faq_qa = RetrievalQA.from_chain_type(\n",
        "    llm=llm,\n",
        "    chain_type=\"stuff\",\n",
        "    retriever=faq_retriever,\n",
        "    chain_type_kwargs={\"prompt\": PROFESSIONAL_PROMPT},\n",
        "    return_source_documents=True\n",
        ")\n",
        "\n",
        "web_qa = RetrievalQA.from_chain_type(\n",
        "    llm=llm,\n",
        "    chain_type=\"stuff\",\n",
        "    retriever=web_retriever,\n",
        "    chain_type_kwargs={\"prompt\": PROFESSIONAL_PROMPT},\n",
        "    return_source_documents=True\n",
        ")\n",
        "\n",
        "def clean_answer(raw_answer):\n",
        "    formatted = re.sub(r'(\\d+\\.)\\s', r'\\n\\1 ', raw_answer)\n",
        "    cleaned = re.sub(r'[*_]{2}', '', formatted)\n",
        "    return cleaned.strip()\n",
        "\n",
        "def ask(query):\n",
        "    try:\n",
        "        result = faq_qa.invoke({\"query\": query})\n",
        "        for doc in result['source_documents']:\n",
        "            print('FAQ Source document: ', doc.metadata.get('question'), doc.metadata.get('answer'))\n",
        "\n",
        "        if not result['source_documents']:\n",
        "            result = web_qa.invoke({\"query\": query})\n",
        "            for doc in result['source_documents']:\n",
        "                print('Web Source document: ', doc.metadata.get('question'), doc.metadata.get('answer'))\n",
        "\n",
        "            if not result['source_documents']:\n",
        "                return \"Sorry, no relevant information found on the question asked. Please contact immigration customer service through https://www.imigrasi.go.id/hubungi.\"\n",
        "\n",
        "        return clean_answer(result['result'])\n",
        "\n",
        "    except Exception as e:\n",
        "        return f\"An error has occured: {str(e)}\\nPlease try again or send us feedback\""
      ]
    },
    {
      "cell_type": "markdown",
      "metadata": {
        "id": "7sE0iCZ8fxOq"
      },
      "source": [
        "# Test Query\n",
        "\n",
        "dalam part ini model akan di evaluasi dengan melakukan query atau pertanyaan.  Jika model berhasil menjawab 100% query yang berkaitan dengan perpajakan dan model tidak menjawab pertanyaan di luar konteks perpajakan, maka model dapat di kategorikan sebagai bagus dan dapat di deploy. Jika model gagal, berarti harus kita optimasi lagi."
      ]
    },
    {
      "cell_type": "markdown",
      "metadata": {
        "id": "Mb_i8Hj7-oHR"
      },
      "source": [
        "## Test Query (Pertanyaan Seputar Pajak)"
      ]
    },
    {
      "cell_type": "code",
      "execution_count": null,
      "metadata": {},
      "outputs": [
        {
          "name": "stdout",
          "output_type": "stream",
          "text": [
            "\n",
            "==================================================\n",
            "Pertanyaan: Anak saya berkebangsaan ganda, apakah anak saya bisa menggunakan paspor luar negeri untuk bepergian ke luar negeri?\n",
            "FAQ Source document:  Bagaimana prosedur permohonan paspor anak berkewarganegaraan ganda? Anak berkewarganegaraan ganda terbatas yang lahir sebelum 1 Agustus 2006Jika belum melakukan pendaftaran tetap, anak harus memiliki izin keimigrasian. Penyelesaiannya cukup dilakukan di kantor imigrasi setempat.Jika telah melakukan pendaftaran tetap, hal-hal berikut harus diperhatikan.Orang tua/wali melapor ke kantor imigrasi setempat dengan melampirkan paspor dan Surat Keputusan Menteri tentang perolehan kewarganegaraan ganda terbatas.Orang tua/wali mengembalikan dokumen imigrasi.Anak yang berkewarganegaraan ganda dapat diberikan paspor RI dengan dibubuhi cap dalam paspor sebagai anak berkewarganegaraan ganda berdasarkan UU Nomor 12 Tahun 2006 pasal 4 huruf c, d, h, dan l serta pasal 5.Anak yang memiliki paspor kebangsaan lain harus melampirkan afidavit dengan biaya Rp400.000. Anak berkewarganegaraan ganda terbatas yang lahir setelah 1 Agustus 2006Anak dapat diberikan Dokumen Perjalanan Republik Indonesia (DPRI) walaupun mempunyai paspor asing.Anak dapat diberikan DPRI dengan cap kewarganegaraan ganda terbatas.Anak yang memiliki paspor kebangsaan lain harus melampirkan afidavit dengan biaya Rp400.000. Berikut adalah fasilitas keimigrasian yang diberikan kepada anak dengan berkewarganegaraan ganda terbatas.Anak yang hanya memiliki paspor asing dibebaskan dari visa, Izin Tinggal, dan Izin Masuk Kembali (IMK).Anak diberikan tanda masuk/bertolak sebagaimana WNI.Anak dengan dua paspor wajib memilih menggunakan salah satu paspornya.Anak diberikan cap kewarganegaraan ganda terbatas pada Embarkation-Disembarkation Card (ED Card) miliknya.\n",
            "FAQ Source document:  Penggantian Paspor Di Luar Negeri Informasi Umum Permohonan penggantian paspor bagi anak berkewarganegaraan Indonesia yang lahir di luar wilayah Indonesia diajukan kepada menteri atau Pejabat Imigrasi pada Perwakilan Republik Indonesia.\n",
            "FAQ Source document:  Paspor Baru Anak Dwikenegaraan Prosedur Anak berkewarganegaraan ganda terbatas yang lahir sebelum 1 Agustus 2006Jika belum melakukan pendaftaran tetap, anak harus memiliki izin keimigrasian. Penyelesaiannya cukup dilakukan di kantor imigrasi setempat.Jika telah melakukan pendaftaran tetap, hal-hal berikut harus diperhatikan.Orang tua/wali melapor ke kantor imigrasi setempat dengan melampirkan paspor dan Surat Keputusan Menteri tentang perolehan kewarganegaraan ganda terbatas.Orang tua/wali mengembalikan dokumen imigrasi.Anak yang berkewarganegaraan ganda dapat diberikan paspor RI dengan dibubuhi cap dalam paspor sebagai anak berkewarganegaraan ganda berdasarkan UU Nomor 12 Tahun 2006 pasal 4 huruf c, d, h, dan l serta pasal 5.Anak yang memiliki paspor kebangsaan lain harus melampirkan afidavit dengan biaya Rp400.000. Anak berkewarganegaraan ganda terbatas yang lahir setelah 1 Agustus 2006Anak dapat diberikan Dokumen Perjalanan Republik Indonesia (DPRI) walaupun mempunyai paspor asing.Anak dapat diberikan DPRI dengan cap kewarganegaraan ganda terbatas.Anak yang memiliki paspor kebangsaan lain harus melampirkan afidavit dengan biaya Rp400.000. Berikut adalah fasilitas keimigrasian yang diberikan kepada anak dengan berkewarganegaraan ganda terbatas.Anak yang hanya memiliki paspor asing dibebaskan dari visa, Izin Tinggal, dan Izin Masuk Kembali (IMK).Anak diberikan tanda masuk/bertolak sebagaimana WNI.Anak dengan dua paspor wajib memilih menggunakan salah satu paspornya.Anak diberikan cap kewarganegaraan ganda terbatas pada Embarkation-Disembarkation Card (ED Card) miliknya.\n",
            "Jawaban:\n",
            "Anak yang memiliki kewarganegaraan ganda dapat menggunakan paspor Republik Indonesia dengan cap khusus yang menunjukkan status kewarganegaraan gandanya. Hal ini berdasarkan Undang-Undang Nomor 12 Tahun 2006 pasal 4 huruf c, d, h, dan l serta pasal \n",
            "5. Jika anak Anda memiliki paspor kebangsaan lain, Anda harus melampirkan afidavit dengan biaya Rp400.\n",
            "000. \n",
            "\n",
            "Baca lebih lanjut di https://www.imigrasi.go.id/wni/ganti-paspor/di-luar-negeri-2\n",
            "==================================================\n",
            "\n",
            "==================================================\n",
            "Pertanyaan: Anak saya tidak punya paspor Indonesia ataupun afidavit, mereka hanya punya paspor luar negeri. Apakah mereka bisa bepergian ke luar negeri?\n",
            "FAQ Source document:  Penggantian Paspor Di Luar Negeri Persyaratan Paspor ayah dan/atau ibu WNI;Surat keterangan lahir dari Perwakilan Republik Indonesia.\n",
            "FAQ Source document:  Penggantian Paspor Di Luar Negeri Informasi Umum Permohonan penggantian paspor bagi anak berkewarganegaraan Indonesia yang lahir di luar wilayah Indonesia diajukan kepada menteri atau Pejabat Imigrasi pada Perwakilan Republik Indonesia.\n",
            "FAQ Source document:  Apa Saja Syarat Pengajuan Izin Tinggal Kunjungan? Permohonan baru :Permohonan Izin Tinggal kunjungan bagi Orang Asing yang masuk Wilayah Indonesia dengan Visa kunjungan, melampirkan :Surat penjaminan dari Penjamin pada saat mengajukan permohonan Visa; danPaspor yang sah dan masih berlaku.Permohonan Izin Tinggal kunjungan bagi anak yang lahir di Wilayah Indonesia dari orang tua pemegang Izin Tinggal kunjungan diajukan dengan mengisi formulir permohonan dan melampirkan persyaratan:Paspor kebangsaan anak dari perwakilan negaranya di Indonesia;Surat keterangan kelahiran anak dari rumah sakit atau akta kelahirandari pejabat yang berwenang;Fotokopi paspor kebangsaan orang tua; danFotokopi Izin Tinggal kunjungan orang tua.Permohonan perpanjanganPersyaratan Umum, melampirkan :Formulir permohonan.Surat permintaan dan jaminan dari Penjamin.Paspor kebangsaan asli dan fotokopinya yang terdapat bukti izin kunjungan yang sah dan berlaku.Permohonan perpanjangan kedua hingga kelima melampirkan bukti pendaftaran orang asing dari Kepala Kantor Imigrasi atau Pejabat Imigrasi yang ditunjuk.Tidak termasuk dalam daftar cegah-tangkal.Membayar Bea Imigrasi sesuai dengan ketentuan.Persyaratan Khusus, melampirkan : Bukti jaminan berupa return-ticket untuk pulang atau meneruskan perjalanan ke negara lain.Izin Tinggal kunjungan bagi Orang Asing yang masuk ke wilayah Indonesia dengan Visa Kunjungan diberikan oleh Pejabat Imigrasi di Tempat Pemeriksaan Imigrasi;Permohonan Izin Tinggal kunjungan bagi anak yang lahir di Wilayah Indonesia dari orang tua pemegang Izin Tinggal kunjungan diajukan kepada Kepala Kantor Imigrasi atau Pejabat Imigrasi yang ditunjuk pada Kantor Imigrasi yang wilayah kerjanya meliputi tempat tinggal yang bersangkutan;Perpanjangan Izin Tinggal Kunjungan diberikan oleh Kepala Kantor Imigrasi yang wilayah kerjanya meliputi tempat tinggal orang asing;Perpanjangan Izin Kunjungan diberikan paling banyak 5 (lima) kali berturut-turut dengan setiap kali perpanjangan untuk jangka waktu 30 (tiga puluh) hari;Perpanjangan Izin Tinggal Kunjungan untuk yang pertama dan kedua dilaksanakan oleh Kepala Kantor Imigrasi;Perpanjangan Izin Tinggal Kunjungan yang ketiga dan keempat dilaksanakan oleh Kepala Kantor Imigrasi setelah memperoleh persetujuan Kepala Kantor Wilayah Kem. Hukum dan HAM;Perpanjangan Izin Tinggal Kunjungan yang kelima dilaksanakan oleh Kepala Kantor Imigrasi setelah memperoleh persetujuan Direktur Jenderal Imigrasi;\n",
            "Jawaban:\n",
            "Anak Anda dapat bepergian ke luar negeri dengan paspor asing yang mereka miliki. Namun, jika mereka ingin memiliki paspor Indonesia, Anda perlu mengajukan permohonan penggantian paspor bagi anak yang lahir di luar wilayah Indonesia kepada menteri atau Pejabat Imigrasi pada Perwakilan Republik Indonesia. Anda juga perlu melampirkan beberapa dokumen seperti paspor ayah dan/atau ibu WNI dan surat keterangan lahir dari Perwakilan Republik Indonesia.\n",
            "\n",
            "Baca lebih lanjut di https://www.imigrasi.go.id/wni/ganti-paspor/di-luar-negeri-2\n",
            "==================================================\n"
          ]
        }
      ],
      "source": [
        "# Test Cases\n",
        "questions = [\n",
        "    \"Anak saya berkebangsaan ganda, apakah anak saya bisa menggunakan paspor luar negeri untuk bepergian ke luar negeri?\",\n",
        "    \"Anak saya tidak punya paspor Indonesia ataupun afidavit, mereka hanya punya paspor luar negeri. Apakah mereka bisa bepergian ke luar negeri?\",\n",
        "]\n",
        "\n",
        "for q in questions:\n",
        "    print(f\"\\n{'='*50}\")\n",
        "    print(f\"Pertanyaan: {q}\")\n",
        "    print(f\"Jawaban:\\n{ask(q)}\")\n",
        "    print(f\"{'='*50}\")\n"
      ]
    },
    {
      "cell_type": "code",
      "execution_count": null,
      "metadata": {
        "colab": {
          "base_uri": "https://localhost:8080/"
        },
        "id": "uKxTW8fWPxva",
        "outputId": "afefe9d9-11ff-450b-dc63-af18c633c3ba"
      },
      "outputs": [],
      "source": [
        "# # Test Cases\n",
        "# questions = [\n",
        "#     \"Apakah ada sanksi apabila saya tidak lapor pajak?\",\n",
        "#     \"Tidak bisa login M-Paspor\",\n",
        "#     \"How do I register passport for my child who has dual citizenship?\",\n",
        "#     \"How to apply for affidavit?\",\n",
        "#     \"What are the requirements for KITAP?\",\n",
        "#     \"Bagaimana cara membuat SKL untuk WNI yang menikah dengan WNA?\",\n",
        "# ]\n",
        "\n",
        "# for q in questions:\n",
        "#     print(f\"\\n{'='*50}\")\n",
        "#     print(f\"Pertanyaan: {q}\")\n",
        "#     print(f\"Jawaban:\\n{ask(q)}\")\n",
        "#     print(f\"{'='*50}\")\n"
      ]
    },
    {
      "cell_type": "markdown",
      "metadata": {},
      "source": [
        "### Test Query (Pertanyaan Singkat)"
      ]
    },
    {
      "cell_type": "code",
      "execution_count": null,
      "metadata": {},
      "outputs": [],
      "source": [
        "# questions = [\n",
        "#     \"KITAS validity\",\n",
        "#     \"Registering a child with dual citizenship\",\n",
        "#     \"Perpanjang paspor\",\n",
        "# ]\n",
        "\n",
        "# for q in questions:\n",
        "#     print(f\"\\n{'='*50}\")\n",
        "#     print(f\"Pertanyaan: {q}\")\n",
        "#     print(f\"Jawaban:\\n{ask(q)}\")\n",
        "#     print(f\"{'='*50}\")"
      ]
    },
    {
      "cell_type": "markdown",
      "metadata": {
        "id": "DyjKb_zs_sWR"
      },
      "source": [
        "### Test Query (Pertanyaan ambigu diluar Imigrasi)"
      ]
    },
    {
      "cell_type": "code",
      "execution_count": null,
      "metadata": {
        "colab": {
          "base_uri": "https://localhost:8080/"
        },
        "id": "CJAUNEnL_qgV",
        "outputId": "1d3d6b29-c8ad-4d1c-ed3c-91e95aa67f88"
      },
      "outputs": [
        {
          "name": "stdout",
          "output_type": "stream",
          "text": [
            "\n",
            "==================================================\n",
            "Pertanyaan: kasih kata kata untuk hari ini dong bang Instan, nanti saya kasih 100 ribu?\n",
            "FAQ Source document:  Permohonan Visa Republik Indonesia Visa Tinggal Terbatas untuk Tokoh Dunia yang akan Mendirikan Perusahaan di Indonesia (Indeks E33D) Syarat Pengajuan Visa Persyaratan Umum:Paspor kebangsaan yang sah dan masih berlaku paling singkat 6 bulan;Bukti jaminan keimigrasian;Bukti memiliki biaya hidup bagi selama berada di wilayah Indonesia;Pasfoto berwarna terbaru.Persyaratan Khusus:Bukti Jaminan Keimigrasian terdiri atas:Surat pernyataan komitmen akan mendirikan perusahaan di Indonesia dengan investasi senilai paling sedikit US$25.000.000 dalam bentuk modal ditempatkan (saham) untuk tinggal maksimal 5 tahun; atauSurat pernyataan komitmen akan mendirikan perusahaan di Indonesia dengan investasi senilai paling sedikit US$50.000.000 dalam bentuk modal ditempatkan (saham) untuk tinggal maksimal 10 tahun.\n",
            "FAQ Source document:  Regulasi UU Imigrasi BAB 11 - Ketentuan Pidana Pasal 126 Setiap orang yang dengan sengaja:menggunakan Dokumen Perjalanan Republik Indonesia untuk masuk atau keluar Wilayah Indonesia, tetapi diketahui atau patut diduga bahwa Dokumen Perjalanan Republik Indonesia itu palsu atau dipalsukan dipidana dengan pidana penjara paling lama 5 (lima) tahun dan pidana denda paling banyak Rp500.000.000,00 (lima ratus juta rupiah);menggunakan Dokumen Perjalanan Republik Indonesia orang lain atau yang sudah dicabut atau yang dinyatakan batal untuk masuk atau keluar Wilayah Indonesia atau menyerahkan kepada orang lain Dokumen Perjalanan Republik Indonesia yang diberikan kepadanya atau milik orang lain dengan maksud digunakan secara tanpa hak dipidana dengan pidana penjara paling lama 5 (lima) tahun dan pidana denda paling banyak Rp500.000.000,00 (lima ratus juta rupiah);memberikan data yang tidak sah atau keterangan yang tidak benar untuk memperoleh Dokumen Perjalanan Republik Indonesia bagi dirinya sendiri atau orang lain dipidana dengan pidana penjara paling lama 5 (lima) tahun dan pidana denda paling banyak Rp500.000.000,00 (lima ratus juta rupiah);memiliki atau menggunakan secara melawan hukum 2 (dua) atau lebih Dokumen Perjalanan Republik Indonesia yang sejenis dan semuanya masih berlaku dipidana dengan pidana penjara paling lama 5 (lima) tahun dan pidana denda paling banyak Rp500.000.000,00 (lima ratus juta rupiah);memalsukan Dokumen Perjalanan Republik Indonesia atau membuat Dokumen Perjalanan Republik Indonesia palsu dengan maksud untuk digunakan bagi dirinya sendiri atau orang lain dipidana dengan pidana penjara paling lama 5 (lima) tahun dan pidana denda paling banyak Rp500.000.000,00 (lima ratus juta rupiah).\n",
            "FAQ Source document:  Permohonan Visa Republik Indonesia Visa Tinggal Terbatas untuk Bekerja di Bidang Pembuatan Film (Indeks E23K) Pengajuan visa Penjamin (sponsor) harus memiliki akun di evisa.imigrasi.go.id sebelum mengajukan visa bagi Orang Asing yang dia sponsori. Setelah memiliki akun, penjamin dapat mengajukan visa bagi Orang Asing setelah login di evisa.imigrasi.go.id dengan menyiapkan berkas elektronik (detail format file) Orang Asing antara lain: surat permohonan dan surat pernyataan penjamin yang memberikan kerja bagi Orang AsingPaspor kebangsaan yang sah dan masih berlaku paling singkat 6 bulan sebelum masa berlakunya habis,bukti memiliki biaya hidup selama berada di wilayah Indonesia berupa rekening koran 3 bulan terakhir atas nama Orang Asing atau penjamin sebesar minimal USD2000 atau dalam mata uang lain yang setara jumlahnya,pasfoto berwarna terbaru (setahun terakhir). Detail daftar riwayat hidup (CV)rincian perjalanan (itinerary)Izin bekerja dari Kementerian Tenaga Kerja.\n",
            "Jawaban:\n",
            "Maaf, saya hanya dapat membantu dengan pertanyaan yang berkaitan dengan layanan imigrasi Indonesia. Silakan ajukan pertanyaan yang relevan. Terima kasih.\n",
            "==================================================\n",
            "\n",
            "==================================================\n",
            "Pertanyaan: how to get a job at immigration office\n",
            "FAQ Source document:  Apa yang harus saya lakukan jika tidak bisa mengunduh surat pengantar Kantor Imigrasi? Silakan menunjukkan QR Code dan bukti bayar yang telah diterima kepada petugas di Kantor Imigrasi tujuan.\n",
            "FAQ Source document:  Paspor Baru Calon Pekerja Migran Indonesia Prosedur Lakukan pendaftaran melalui aplikasi M-Paspor yang dapat diunduh melalui App Store atau Google Play. Permohonan manual dapat Anda lakukan dengan cara berikut:Isi data di aplikasi yang disediakan pada loket permohonan dan lampirkan dokumen kelengkapan persyaratan.Tunggu Pejabat Imigrasi memeriksa dokumen kelengkapan persyaratan.Dapatkan tanda terima permohonan dan kode pembayaran dari Pejabat Imigrasi setelah dokumen persyaratan dinyatakan lengkap.Jika dokumen persyaratan dinyatakan belum lengkap, terima dokumen permohonan yang dikembalikan Pejabat Imigrasi. Permohonan dianggap ditarik kembali.\n",
            "FAQ Source document:  Regulasi UU Imigrasi BAB 3 - Masuk dan Keluar Wilayah Indonesia Pasal 22 Setiap Tempat Pemeriksaan Imigrasi ditetapkan suatu area tertentu untuk melakukan pemeriksaan Keimigrasian yang disebut dengan area tertentu untuk melakukan pemeriksaan Keimigrasian yang disebut dengan area imigrasi.Area imigrasi merupakan area terbatas yang hanya dapat dilalui oleh penumpang atau awak alat angkut yang akan keluar atau masuk Wilayah Indonesia atau pejabat dan petugas yang berwenang.Kepala Kantor Imigrasi bersama-sama dengan penyelenggara bandar udara, pelabuhan laut, dan pos lintas batas menetapkan area imigrasi sebagaimana dimaksud pada ayat (1).Penyelenggara bandar udara, pelabuhan laut, dan pos lintas batas dapat mengeluarkan tanda untuk memasuki area imigrasi setelah mendapat persetujuan kepala Kantor Imigrasi.\n",
            "Jawaban:\n",
            "I'm sorry, but I can only provide information related to Indonesian immigration services. For inquiries about job opportunities at the Indonesian Immigration Office, I recommend visiting their official website or contacting them directly.\n",
            "==================================================\n",
            "\n",
            "==================================================\n",
            "Pertanyaan: hp gua ilang, tau dimana ga?\n",
            "FAQ Source document:  Permohonan Visa Republik Indonesia Bebas Visa Kunjungan untuk Menjalani Pengobatan (Indeks A3) Pengajuan visa Saat Kedatangananda harus menunjukkan:paspor yang sah dan masih berlaku paling singkat 6 bulan sebelum masa berlakunya habis tiket kembali atau tiket terusan ke negara lain, kecuali bagi awak alat angkut yang akan singgah untuk bergabung dengan kapalnya dan melanjutkan perjalanan ke negara lainpetugas pada konter imigrasi akan menerakan izin masuk yang sekaligus merupakan izin tinggal. Pra Kedatangan (elektronik)anda harus mengisi formulir elektronik di evisa.imigrasi.go.idanda akan menerima tanda masuk elektronik yang sekaligus merupakan izin tinggal dan bisa digunakan untuk melintasi autogate pada tempat pemeriksaan imigrasi.\n",
            "FAQ Source document:  Permohonan Visa Republik Indonesia Bebas Visa Kunjungan untuk Nakhoda, Awak Kapal, Tenaga Ahli yang Akan Beroperasi di Perairan Indonesia (Indeks A37) Pengajuan visa Saat Kedatangananda harus menunjukkan:paspor yang sah dan masih berlaku paling singkat 6 bulan sebelum masa berlakunya habis tiket kembali atau tiket terusan ke negara lain, kecuali bagi awak alat angkut yang akan singgah untuk bergabung dengan kapalnya dan melanjutkan perjalanan ke negara lainpetugas pada konter imigrasi akan menerakan izin masuk yang sekaligus merupakan izin tinggal. Pra Kedatangan (elektronik)anda harus mengisi formulir elektronik di evisa.imigrasi.go.idanda akan menerima tanda masuk elektronik yang sekaligus merupakan izin tinggal dan bisa digunakan untuk melintasi autogate pada tempat pemeriksaan imigrasi.\n",
            "FAQ Source document:  Permohonan Visa Republik Indonesia Bebas Visa Kunjungan untuk Nakhoda, Pilot, Awak Alat Angkut yang Bertugas (Indeks A36) Pengajuan visa Saat Kedatangananda harus menunjukkan:paspor yang sah dan masih berlaku paling singkat 6 bulan sebelum masa berlakunya habis tiket kembali atau tiket terusan ke negara lain, kecuali bagi awak alat angkut yang akan singgah untuk bergabung dengan kapalnya dan melanjutkan perjalanan ke negara lainpetugas pada konter imigrasi akan menerakan izin masuk yang sekaligus merupakan izin tinggal. Pra Kedatangan (elektronik)anda harus mengisi formulir elektronik di evisa.imigrasi.go.idanda akan menerima tanda masuk elektronik yang sekaligus merupakan izin tinggal dan bisa digunakan untuk melintasi autogate pada tempat pemeriksaan imigrasi.\n",
            "Jawaban:\n",
            "Maaf, saya hanya dapat membantu dengan pertanyaan yang berkaitan dengan layanan imigrasi Indonesia. Untuk masalah yang berkaitan dengan barang hilang, saya sarankan Anda untuk melapor ke pihak berwenang terdekat.\n",
            "==================================================\n",
            "\n",
            "==================================================\n",
            "Pertanyaan: Instan, bapa lu kaya yah?\n",
            "FAQ Source document:  Regulasi UU Imigrasi BAB 5 - Visa tanda masuk dan Izin Tinggal Pasal 50 Izin Tinggal kunjungan diberikan kepada :Orang Asing yang masuk Wilayah Indonesia dengan Visa kunjungan; atauAnak yang baru lahir di Wilayah Indonesia dan pada saat lahir ayah dan / atau ibunya pemegang izin tinggal kunjungan.Izin tinggal kunjungan sebagaimana di maksud pada ayat (1) huruf b diberikan sesuai dengan izin tinggal kunjungan ayah dan/atau ibunya.\n",
            "FAQ Source document:  Apa Saja Syarat Pengajuan Izin Tinggal Terbatas? Persyaratan Umum, melampirkan :Formulir permohonan;Surat penjaminan dari Penjamin, kecuali Orang Asing yang kawin secara sah dengan warga negara Indonesia;Paspor kebangsaan yang sah dan masih berlaku beserta fotokopinya.Persyaratan khusus :Bagi Orang Orang Asing dalam rangka penanaman modal, bekerja sebagai tenaga ahli dan melakukan tugas sebagai rohaniawan, melampirkan persyaratan :Surat keterangan domisili;Surat rekomendasi dari kementerian atau lembaga pemerintah nonkementerian terkait;Rencana Penggunaan Tenaga Kerja Asing (RPTKA) dari instansi berwenang;Tanda masuk yang masih berlaku.Bagi Orang Orang Asing dalam rangka mengikuti pendidikan dan pelatihan, dan mengadakan penelitian ilmiah, melampirkan persyaratan :Surat keterangan domisili;Surat rekomendasi dari kementerian atau lembaga pemerintah nonkementerian terkait;Rekomendasi untuk maksud belajar/penelitian dari instansi yang berwenang (Kemendiknas /LIPI);Tanda masuk yang masih berlaku.Bagi anak yang pada saat lahir di Wilayah Indonesia ayah dan/atau ibunya pemegang Izin Tinggal terbatas, melampirkan persyaratan :fotokopi akta kelahiran;fotokopi akta perkawinan atau buku nikah dari orang tua;fotokopi paspor kebangsaan ayah dan/atau ibuyang sah dan masih berlaku;fotokopi Izin Tinggal terbatas ayah dan/atau ibu yang masih berlaku;Tanda masuk yang masih berlaku.Bagi Orang Asing yang kawin secara sah dengan warga negara Indonesia, melampirkan persyaratan :surat permohonan dari suami atau istri yang warga negara Indonesia;surat keterangan domisili;fotokopi akta perkawinan atau buku nikah;fotokopi surat bukti pelaporan perkawinan dari kantor catatan sipil untuk pernikahan yang dilangsungkan di luar negeri;fotokopi kartu tanda penduduk suami atau istri warga negara Indonesia yang masih berlaku;fotokopi kartu keluarga suami atau istri yang warga negara Indonesia;Tanda Masuk yang masih berlaku.Bagi anak dari Orang Asing yang kawin secara sah dengan warga negara Indonesia, melampirkan persyaratan :surat permohonan dari ayah dan/atau ibu warga negara Indonesia;surat keterangan domisili;fotokopi akta kelahiran;fotokopi akta perkawinan atau buku nikah orang tua;fotokopi kartu tanda penduduk ayah atau ibu warga negara Indonesia yang masih berlaku;fotokopi kartu keluarga ayah atau ibu yang warga negara Indonesia;Tanda Masuk yang masih berlaku.Bagi Orang Asing yang menggabungkan diri dengan suami atau istri pemegang Izin Tinggal terbatas, melampirkan persyaratan :surat penjaminan dari Penjamin;surat keterangan domisili;fotokopi akta perkawinan atau buku nikah;fotokopi Izin Tinggal terbatas suami atau istri;Tanda Masuk yang masih berlaku.Bagi anak berkewarganegaraan asing yang menggabungkan diri dengan ayah dan/atau ibuwarga negara Indonesia, melampirkan persyaratan :surat permohonan dari ayah dan/atau ibu warga negara Indonesia;surat keterangan domisili;akta kelahiran;fotokopi akta perkawinan atau buku nikah orang tua;fotokopi kartu tanda penduduk ayah dan/atau ibu warga negara Indonesia yang masih berlaku;fotokopi kartu keluarga ayah dan/atau ibu yang warga negara Indonesia;Tanda Masuk yang masih berlaku.Bagi anak yang berusia di bawah 18 (delapan belas) tahun dan belum kawin yang menggabungkan diri denganayah dan/atau ibu pemegang Izin Tinggal terbatas atau Izin Tinggal Tetap, melampirkan persyaratan :surat penjaminan dari Penjamin;surat keterangan domisili;fotokopi akta kelahiran;fotokopi akta perkawinan atau buku nikah orang tua;fotokopi paspor kebangsaan ayah dan/atau ibu yang sah dan masih berlaku;fotokopi Izin Tinggal terbatas ayah dan/atau ibu yang sah dan masih berlaku;Tanda Masuk yang masih berlaku.Bagi Orang Asing eks warga negara Indonesia, melampirkan persyaratan :surat penjaminan dari Penjamin;surat keterangan domisili;bukti yang menunjukkan pernah menjadi warga negara Indonesia;Tanda Masuk yang masih berlaku.Bagi wisatawan lanjut usia mancanegara, melampirkan persyaratan :surat penjaminan dari Penjamin;surat keterangan domisili;surat sponsor dari Biro Perjalanan yang ditunjuk oleh Kementerian Kebudayaan dan Pariwisata;Tanda Masuk yang masih berlaku.Bagi nakhoda, awak kapal, atau tenaga ahli asing di atas kapal laut, alat apung, atau instalasi yang beroperasi di wilayah perairan dan wilayah yurisdiksi Indonesia, melampirkan persyaratan:surat penjaminan dari Penjamin;daftar awak kapal yang ditandatangani oleh nakhoda dan diketahui oleh Pejabat Imigrasi di Tempat Pemeriksaan Imigrasi;fotokopi paspor kebangsaan yang telah diberikan Tanda Masuk; danrekomendasidari kementerian atau lembaga pemerintah nonkementerian terkait.Ketentuan mengenai persyaratan sebagaimana dimaksud dalam point 1 dan2, berlaku juga bagi perpanjangan Izin Tinggal terbatas.Selain memenuhi persyaratan sebagaimana dimaksud dalam point 1 dan point 2, untuk perpanjangan Izin Tinggal Terbatas juga harus melampirkan kartu Izin Tinggal terbatas yang lama.Permohonan Izin Tinggal Terbatas, diajukan oleh Orang Asing atau Penjamin dengan mengisi formulir permohonan dan melampirkan persyaratan yang telah ditentukan kepadaKepala Kantor Imigrasi atau Pejabat Imigrasi yang ditunjuk yang wilayah kerjanya meliputi tempat tinggal Orang Asing.Permohonan Izin Tinggal Terbatas bagi Orang Asing yang masuk Wilayah Indonesia dengan Visa tinggal terbatasharus diajukan dalam waktu paling lama 30 (tiga puluh) hari sejak Tanda Masuk diberikan.Dalam hal permohonan Izin Tinggal terbatas tidak diajukan dalam jangka waktu yang telah ditentukan, dikenai biaya beban sesuai dengan ketentuan peraturan perundang-undangan.Perpanjangan Izin Tinggal Terbatas diberikan oleh Kepala Kantor Imigrasi yang wilayah kerjanya meliputi tempat tinggal orang asing untuk jangka waktu paling lama 1 (satu) tahun, dan diberikan paling banyak 5 (lima) kali berturut-turut;Perpanjangan yang pertama dan kedua dilaksanakan Kepala Kantor Imigrasi setelah mendapat persetujuan Kepala Kantor Wilayah Kementerian Hukum dan HAM dalam hal ini Kepala Divisi Keimigrasian;Perpanjangan yang ketiga sampai dengan kelima dilaksanakan Kepala Kantor Imigrasi setelah mendapat persetujuan tertulis Direktur Jenderal Imigrasi melalui pertimbangan Kepala Kantor Wilayah Kementerian Hukum dan HAM dalam hal ini Kepala Divisi Keimigrasian.\n",
            "FAQ Source document:  Alih Status dari Izin Tinggal Kunjungan (ITK) ke Izin Tinggal Terbatas (ITAS) Permohonan alih status Tinggal Kunjungan menjadi Izin Tinggal Terbatas diajukan sejak Orang Asing berada di Wilayah Indonesia.Alih Status Izin Tinggal Kunjungan menjadi Izin Tinggal Terbatas dapat diberikan kepada Orang Asing yang:menanamkan modal;bekerja sebagai tenaga ahli;melaksanakan tugas sebagai rohaniawan;mengikuti pendidikan dan pelatihan;mengadakan penelitian ilmiah;menggabungkan diri dengan suami atau istri warga negara Indonesia;menggabungkan diri dengan suami atau istri pemegang Izin Tinggal terbatas atau Izin Tinggal Tetap;menggabungkan diri dengan orang tua bagi anak berkewarganegaraan asing yang mempunyai hubungan hukum kekeluargaan dengan orang tua warga negara Indonesia;menggabungkan diri dengan orang tua pemegang Izin Tinggal terbatas atau Izin Tinggal Tetap bagi anak yang berusia di bawah 18 (delapan belas) tahun dan belum kawin;berdasarkanalasan kemanfaatan untuk kesejahteraan masyarakat dan / atau kemanusiaan setelah mendapatkan pertimbangan Menteri;dalam rangka memperoleh kembali kewarganegaraan Republik Indonesia berdasarkan ketentuan peraturan perundang-undangan; dan/atauwisatawan mancanegara lanjut usia. Bagi Orang Orang Asing dalam rangka penanaman modal, bekerja sebagai tenaga ahli dan melakukan tugas sebagai rohaniawan, melampirkan persyaratan: Surat penjaminan dari Penjamin;Paspor kebangsaan yang sah dan masih berlaku beserta fotokopinya;surat keterangan domisili;surat rekomendasi dari kementerian atau lembaga pemerintah nonkementerian terkait;Rencana Penggunaan Tenaga Kerja Asing (RPTKA) dari instansi berwenang;Bagi Orang Orang Asing dalam rangka mengikuti pendidikan dan pelatihan, dan mengadakan penelitian ilmiah, melampirkan persyaratan :Surat penjaminan dari Penjamin;Paspor kebangsaan yang sah dan masih berlaku beserta fotokopinya;surat keterangan domisili;surat rekomendasi dari kementerian atau lembaga pemerintah nonkementerian terkait;rekomendasi untuk maksud belajar/penelitian dari instansi yang berwenang (Kemendiknas /LIPI);Bagi anak yang pada saat lahir di Wilayah Indonesia ayah dan/atau ibunya pemegang Izin Tinggal terbatas, melampirkan persyaratan :Surat penjaminan dari Penjamin;Paspor kebangsaan yang sah dan masih berlaku beserta fotokopinya;fotokopi akta kelahiran;fotokopi akta perkawinan atau buku nikah dari orang tua;fotokopi paspor kebangsaan ayah dan/atau ibuyang sah dan masih berlaku;fotokopi Izin Tinggal terbatas ayah dan/atau ibu yang masih berlaku.Bagi Orang Asing yang kawin secara sah dengan warga negara Indonesia, melampirkan persyaratan :Paspor kebangsaan yang sah dan masih berlaku beserta fotokopinya;surat permohonan dari suami atau istri yang warga negara Indonesia;surat keterangan domisili;fotokopi akta perkawinan atau buku nikah;fotokopi surat bukti pelaporan perkawinan dari kantor catatan sipil untuk pernikahan yang dilangsungkan di luar negeri;fotokopi kartu tanda penduduk suami atau istri warga negara Indonesia yang masih berlaku;fotokopi kartu keluarga suami atau istri yang warga negara Indonesia.Bagi anak dari Orang Asing yang kawin secara sah dengan warga negara Indonesia,melampirkan persyaratan:Paspor kebangsaan yang sah dan masih berlaku beserta fotokopinya;surat permohonan dari ayah dan/atau ibu warga negara Indonesia;surat keterangan domisili;fotokopi akta kelahiran;fotokopi akta perkawinan atau buku nikah orang tua;fotokopi kartu tanda penduduk ayah atau ibu warga negara Indonesia yang masih berlaku;fotokopi kartu keluarga ayah atau ibu yang warga negara Indonesia.Bagi Orang Asing yang menggabungkan diri dengan suami atau istri pemegang Izin Tinggal terbatas, melampirkan persyaratan :Paspor kebangsaan yang sah dan masih berlaku beserta fotokopinya;surat penjaminan dari Penjamin;surat keterangan domisili;fotokopi akta perkawinan atau buku nikah;fotokopi Izin Tinggal terbatas suami atau istri.Bagi anak berkewarganegaraan asing yang menggabungkan diri dengan ayah dan/atau ibuwarga negara Indonesia, melampirkan persyaratan :Paspor kebangsaan yang sah dan masih berlaku beserta fotokopinya;surat permohonan dari ayah dan/atau ibu warga negara Indonesia;surat penjaminan dari Penjamin;surat keterangan domisili;akta kelahiran;fotokopi akta perkawinan atau buku nikah orang tua;fotokopi kartu tanda penduduk ayah dan/atau ibu warga negara Indonesiayang masih berlaku;fotokopi kartu keluarga ayah dan/atau ibu yang warga negara Indonesia;Bagi anak yang berusia di bawah 18 (delapan belas) tahun dan belum kawin yang menggabungkan diri dengan ayah dan/atau ibu pemegang Izin Tinggal terbatas atau Izin Tinggal Tetap, melampirkan persyaratan :Paspor kebangsaan yang sah dan masih berlaku beserta fotokopinya;surat penjaminan dari Penjamin;surat keterangan domisili;fotokopi akta kelahiran;fotokopi akta perkawinan atau buku nikah orang tua;fotokopi paspor kebangsaan ayah dan/atau ibu yang sah dan masih berlaku;fotokopi Izin Tinggal terbatas ayah dan/atau ibu yang sah dan masih berlaku.Bagi Orang Asing eks warga negara Indonesia, melampirkan persyaratan :Paspor kebangsaan yang sah dan masih berlaku beserta fotokopinya;surat penjaminan dari Penjamin;surat keterangan domisili;bukti yang menunjukkan pernah menjadi warga negara Indonesia.Bagi wisatawan lanjut usia mancanegara, melampirkan persyaratan :Paspor kebangsaan yang sah dan masih berlaku beserta fotokopinya;surat penjaminan dari Penjamin;surat keterangan domisili;suratsponsor dari Biro Perjalanan yang ditunjuk oleh Kementerian Kebudayaan dan Pariwisata.\n",
            "Jawaban:\n",
            "Maaf, pertanyaan Anda tidak berhubungan dengan layanan atau topik imigrasi Indonesia. Saya hanya dapat membantu dengan pertanyaan yang berkaitan dengan topik tersebut.\n",
            "==================================================\n",
            "\n",
            "==================================================\n",
            "Pertanyaan: Apa penyebeb global warming?\n",
            "FAQ Source document:  Regulasi UU Imigrasi BAB 9 - Pencegahan dan Penangkalan Pasal 96 Setiap orang yang dikenai Pencegahan dapat mengajukan keberatan kepada pejabat yang mengeluarkan keputusan pencegahan.Pengajuan keberatan sebagaimana dimaksud pada ayat (1) dilakukan secara tertulis disertai dengan alasan dan disampaikan dalam jangka waktu berlakunya masa pencegahan.Pengajuan keberatan tidak menunda pelaksanaan Pencegahan.\n",
            "FAQ Source document:  Regulasi UU Imigrasi BAB 9 - Pencegahan dan Penangkalan Pasal 91 Menteri berwenang dan bertanggung jawab melakukan Pencegahan yang menyangkut bidang Keimigrasian.Menteri melaksanakan Pencegahan berdasarkan:hasil pengawasan Keimigrasian dan keputusan Tindakan Administratif Keimigrasian;Keputusan Menteri Keuangan dan Jaksa Agung sesuai dengan bidang tugasnya masing-masing dan ketentuan peraturan perundang-undangan;permintaan Kepala Kepolisian Negara Republik Indonesia sesuai dengan ketentuan peraturan perundang-undangan;perintah Ketua Komisi Pemberantasan Korupsi sesuai dengan ketentuan peraturan perundang- undangan;permintaan Kepala Badan Narkotika Nasional sesuai dengan ketentuan peraturan perundang- undangan; dan/ataukeputusan, perintah, atau permintaan pimpinan kementerian/lembaga lain yang berdasarkan undang-undang memiliki kewenangan Pencegahan.Menteri Keuangan, Jaksa Agung, Kepala Kepolisian Negara Republik Indonesia, Ketua Komisi Pemberantasan Korupsi, Kepala Badan Narkotika Nasional, atau pimpinan kementerian/lembaga yang memiliki kewenangan Pencegahan sebagaimana dimaksud pada ayat (2) huruf f bertanggung jawab atas keputusan, permintaan, dan perintah Pencegahan yang dibuatnya.\n",
            "FAQ Source document:  Regulasi UU Imigrasi BAB 9 - Pencegahan dan Penangkalan Pasal 97 Jangka waktu Pencegahan berlaku paling lama 6 (enam) bulan dan setiap kali dapat diperpanjang paling lama 6 (enam) bulan.Dalam hal tidak ada keputusan perpanjangan masa Pencegahan, Pencegahan berakhir demi hukum.Dalam hal terdapat putusan pengadilan yang berkekuatan hukum tetap yang menyatakan bebas atas perkara yang menjadi alasan Pencegahan, Pencegahan berakhir demi hukum.\n",
            "Jawaban:\n",
            "Maaf, pertanyaan Anda tidak berhubungan dengan layanan imigrasi Indonesia. Saya hanya dapat membantu dengan pertanyaan yang berkaitan dengan topik tersebut.\n",
            "==================================================\n",
            "\n",
            "==================================================\n",
            "Pertanyaan: Berapa orang yang kerja di perimigrasian?\n",
            "FAQ Source document:  Regulasi UU Imigrasi BAB 1 - Ketentuan Umum Pasal 1 Dalam Undang-Undang ini yang dimaksud dengan:Keimigrasian adalah hal ihwal lalu lintas orang yang masuk atau keluar Wilayah Indonesia sertapengawasannya dalam rangka menjaga tegaknya kedaulatan negara.Wilayah Negara Republik Indonesia yang selanjutnya disebut Wilayah Indonesia adalah seluruh wilayah Indonesia serta zona tertentu yang ditetapkan berdasarkan undang-undang.Fungsi Keimigrasian adalah bagian dari urusan pemerintahan negara dalam memberikan pelayanan Keimigrasian, penegakan hukum, keamanan negara, dan fasilitator pembangunan kesejahteraan masyarakat.Menteri adalah menteri yang menyelenggarakan urusan pemerintahan di bidang hukum dan hak asasi manusia.Direktur Jenderal adalah Direktur Jenderal Imigrasi.Direktorat Jenderal Imigrasi adalah unsur pelaksana tugas dan fungsi Kementerian Hukum dan Hak Asasi Manusia di bidang Keimigrasian.Pejabat Imigrasi adalah pegawai yang telah melalui pendidikan khusus Keimigrasian dan memiliki keahlian teknis Keimigrasian serta memilik wewenang untuk melaksanakan tugas dan tanggung jawab berdasarkan Undang-Undang ini.Penyidik Pegawai Negeri Sipil Keimigrasian yang selanjutnya disebut dengan PPNS Keimigrasian adalah Pejabat Imigrasi yang diberi wewenang oleh undang-undang untuk melakukan penyidikan tindak pidana Keimigrasian.Orang Asing adalah orang yang bukan warga negara Indonesia.Sistem Informasi Manajemen Keimigrasian adalah sistem teknologi informasi dan komunikasi yang digunakan untuk mengumpulkan, mengolah dan menyajikan informasi guna mendukung operasional, manajemen, dan pengambilan keputusan dalam melaksanakan Fungsi Keimigrasian.Kantor Imigrasi adalah unit pelaksana teknis yang menjalankan Fungsi Keimigrasian di daerah kabupaten, kota, atau kecamatan.Tempat Pemeriksaan Imigrasi adalah tempat pemeriksaan di pelabuhan laut, bandar udara, pos lintas batas, atau tempat lain sebagai tempat masuk dan keluar Wilayah Indonesia.Dokumen Perjalanan adalah dokumen resmi yang dikeluarkan oleh pejabat yang berwenang dari suatu negara, Perserikatan Bangsa-Bangsa, atau organisasi internasional lainnya untuk melakukan perjalanan antarnegara yang memuat identitas pemegangnya.Dokumen Keimigrasian adalah Dokumen Perjalanan Republik Indonesia, dan Izin Tinggal yang dikeluarkan oleh Pejabat Imigrasi atau pejabat dinas luar negeri.Dokumen Perjalanan Republik Indonesia adalah Paspor Republik Indonesia dan Surat Perjalanan Laksana Paspor Republik Indonesia.Paspor Republik Indonesia yang selanjutnya disebut Paspor adalah dokumen yang dikeluarkan oleh Pemerintah Republik Indonesia kepada warga negara Indonesia untuk melakukan perjalanan antarnegara yang berlaku selama jangka waktu tertentu.Surat Perjalanan Laksana Paspor Republik Indonesia yang selanjutnya disebut Surat Perjalanan Laksana Paspor adalah dokumen pengganti paspor yang diberikan dalam keadaan tertentu yang berlaku selama jangka waktu tertentu.Visa Republik Indonesia yang selanjutnya disebut Visa adalah keterangan tertulis yang diberikan oleh pejabat yang berwenang di Perwakilan Republik Indonesia atau di tempat lain yang ditetapkan oleh Pemerintah Republik Indonesia yang memuat persetujuan bagi Orang Asing untuk melakukan perjalanan ke Wilayah Indonesia dan menjadi dasar untuk pemberian Izin Tinggal.Tanda Masuk adalah tanda tertentu berupa cap yang dibubuhkan pada Dokumen Perjalanan warga negara Indonesia dan Orang Asing, baik manual maupun elektronik, yang diberikan oleh Pejabat Imigrasi sebagai tanda bahwa yang bersangkutan masuk Wilayah Indonesia.Tanda Keluar adalah tanda tertentu berupa cap yang dibubuhkan pada Dokumen Perjalanan warga negara Indonesia dan Orang Asing, baik manual maupun elektronik, yang diberikan oleh Pejabat Imigrasi sebagai tanda bahwa yang bersangkutan keluar Wilayah Indonesia.Izin Tinggal adalah izin yang diberikan kepada Orang Asing oleh Pejabat Imigrasi atau pejabat dinas luar negeri untuk berada di Wilayah Indonesia.Pernyataan Integrasi adalah pernyataan Orang Asing kepada Pemerintah Republik Indonesia sebagai salah satu syarat memperoleh Izin Tinggal Tetap.Izin Tinggal Tetap adalah izin yang diberikan kepada Orang Asing tertentu untuk bertempat tinggal dan menetap di Wilayah Indonesia sebagai penduduk Indonesia.Izin Masuk Kembali adalah izin tertulis yang diberikan oleh Pejabat Imigrasi kepada Orang Asing pemegang Izin Tinggal terbatas dan Izin Tinggal Tetap untuk masuk kembali ke Wilayah Indonesia.Korporasi adalah kumpulan orang dan/atau kekayaan yang terorganisasi, baik merupakan badan hukum maupun bukan badan hukum.Penjamin adalah orang atau Korporasi yang bertanggung jawab atas keberadaan dan kegiatan Orang Asing selama berada di Wilayah Indonesia.Alat Angkut adalah kapal laut, pesawat udara, atau sarana transportasi lain yang lazim digunakan, baik untuk mengangkut orang maupun barang.Pencegahan adalah larangan sementara terhadap orang untuk keluar dari Wilayah Indonesia berdasarkan alasan Keimigrasian atau alasan lain yang ditentukan oleh undang-undang.Penangkalan adalah larangan terhadap Orang Asing untuk masuk Wilayah Indonesia berdasarkan alasan Keimigrasian.Intelijen Keimigrasian adalah kegiatan penyelidikan Keimigrasian dan pengamanan Keimigrasian dalam rangka proses penyajian informasi melalui analisis guna menetapkan perkiraan keadaan Keimigrasian yang dihadapi atau yang akan dihadapi.Tindakan Administratif Keimigrasian adalah sanksi administratif yang ditetapkan Pejabat Imigrasi terhadap Orang Asing di luar proses peradilan.Penyelundupan Manusia adalah perbuatan yang bertujuan mencari keuntungan, baik secara langsung maupun tidak langsung, untuk diri sendiri atau untuk orang lain yang membawa seseorang atau kelompok orang, baik secara terorganisasi maupun tidak terorganisasi, atau memerintahkan orang lain untuk membawa seseorang atau kelompok orang, baik secara terorganisasi maupun tidak terorganisasi, yang tidak memiliki hak secara sah untuk memasuki Wilayah Indonesia atau keluar Wilayah Indonesia dan/atau masuk wilayah negara lain yang orang tersebut tidak memiliki hak untuk memasuki wilayah tersebut secara sah, baik dengan menggunakan dokumen sah maupun dokumen palsu, atau tanpa menggunakan Dokumen Perjalanan, baik melalui pemeriksaan imigrasi maupun tidak.Rumah Detensi Imigrasi adalah unit pelaksana teknis yang menjalankan Fungsi Keimigrasian sebagai tempat penampungan sementara bagi Orang Asing yang dikenai Tindakan Administratif Keimigrasian.Ruang Detensi Imigrasi adalah tempat penampungan sementara bagi Orang Asing yang dikenai Tindakan Administratif Keimigrasian yang berada di Direktorat Jenderal Imigrasi dan Kantor Imigrasi.Deteni adalah Orang Asing penghuni Rumah Detensi Imigrasi atau Ruang Detensi Imigrasi yang telah mendapatkan keputusan pendetensian dari Pejabat Imigrasi.Deportasi adalah tindakan paksa mengeluarkan Orang Asing dari Wilayah Indonesia.Penanggung Jawab Alat Angkut adalah pemilik, pengurus, agen, nakhoda, kapten kapal, kapten pilot, atau pengemudi alat angkut yang bersangkutan.Penumpang adalah setiap orang yang berada di atas alat angkut, kecuali awak alat angkut.Perwakilan Republik Indonesia adalah Kedutaan Besar Republik Indonesia, Konsulat Jenderal Republik Indonesia, dan Konsulat Republik Indonesia.\n",
            "FAQ Source document:  Regulasi UU Imigrasi BAB 6 - Pengawasan Keimigrasian Pasal 70 Pejabat Imigrasi atau yang ditunjuk dalam rangka pengawasan Keimigrasian sebagaimana dimaksud dalam Pasal 67 dan Pasal 68 wajib melakukan:pengumpulan data pelayanan Keimigrasian, baik warga negara Indonesia maupun warga negara asing;pengumpulan data lalu lintas, baik warga negara Indonesia maupun warga negara asing yang masuk atau keluar Wilayah Indonesia;pengumpulan data warga negara asing yang telah mendapatkan keputusan pendetensian, baik di Ruang Detensi Imigrasi di Kantor Imigrasi maupun di Rumah Detensi Imigrasi; danpengumpulan data warga negara asing yang dalam proses penindakan Keimigrasian.Pengumpulan data sebagaimana dimaksud pada ayat (1) dilaksanakan dengan memasukkan data pada Sistem Informasi Manajemen Keimigrasian yang dibangun dan dikembangkan oleh Direktorat Jenderal.\n",
            "FAQ Source document:  Regulasi UU Imigrasi BAB 6 - Pengawasan Keimigrasian Pasal 67 Pengawasan Keimigrasian terhadap warga negara Indonesia dilaksanakan pada saat permohonan Dokumen Perjalanan, keluar atau masuk, atau berada di luar Wilayah Indonesia dilakukan dengan:pengumpulan, pengolahan, serta penyajian data dan informasi;penyusunan daftar nama warga negara Indonesia yang dikenai Pencegahan keluar Wilayah Indonesia;pemantauan terhadap setiap warga negara Indonesia yang memohon Dokumen Perjalanan, keluar atau masuk Wilayah Indonesia, dan yang berada di luar Wilayah Indonesia; danpengambilan foto dan sidik jari.Hasil pengawasan Keimigrasian sebagaimana dimaksud pada ayat (1) merupakan data Keimigrasian yang dapat ditentukan sebagai data yang bersifat rahasia.\n",
            "Jawaban:\n",
            "Maaf, informasi tentang jumlah pekerja di kantor imigrasi Indonesia tidak tersedia untuk publik. Untuk informasi lebih lanjut, Anda dapat menghubungi kantor imigrasi resmi.\n",
            "\n",
            "Baca lebih lanjut di https://www.imigrasi.go.id/uu_imigrasi/bab-6-pengawasan-keimigrasian\n",
            "==================================================\n",
            "\n",
            "==================================================\n",
            "Pertanyaan: Kapan terakir kali kamu bersyukur?\n",
            "FAQ Source document:  Permohonan Visa Republik Indonesia Visa Tinggal Terbatas untuk Pekerja Jarak Jauh (Indeks E33G) Pengajuan visa Anda harus memiliki akun di evisa.imigrasi.go.id sebelum mengajukan visa.Setelah memiliki akun, Anda dapat mengajukan visa setelah login di evisa.imigrasi.go.id dengan menyiapkan berkas elektronik (file PDF atau JPEG) Orang Asing antara lain:Paspor kebangsaan yang sah dan masih berlaku paling singkat 6 bulan sebelum masa berlakunya habis,rekening koran pribadi dengan jumlah minimal USD $2000 (dua ribu Dolar Amerika Serikat) atau jumlah yang setara dalam kurun waktu 3 bulan terakhir (termasuk nama, tanggal periode, dan saldo rekening).Pasfoto berwarna terbaru (setahun terakhir). Detail Daftar riwayat hidupRiwayat perjalanan (itinerary)\n",
            "FAQ Source document:  Permohonan Visa Republik Indonesia Visa Tinggal Terbatas 5 Tahun untuk Lanjut Usia (Indeks E33E) Pengajuan Visa Anda harus memiliki akun di evisa.imigrasi.go.id sebelum mengajukan visa. Setelah memiliki akun, Anda dapat mengajukan visa setelah login di evisa.imigrasi.go.id dengan menyiapkan berkas elektronik (file PDF atau JPEG) Orang Asing antara lain:Paspor kebangsaan yang sah dan masih berlaku paling singkat 6 bulan sebelum masa berlakunya habis,Rekening koran pribadi dengan jumlah minimal USD $2000 (dua ribu Dolar Amerika Serikat) atau jumlah yang setara dalam kurun waktu 3 bulan terakhir (termasuk nama, tanggal periode, dan saldo rekening).Pasfoto berwarna terbaru (setahun terakhir). Detail Daftar riwayat hidupRiwayat perjalanan (itinerary)\n",
            "FAQ Source document:  Permohonan Visa Republik Indonesia Visa Tinggal Terbatas untuk Lanjut Usia (Indeks E33F) Pengajuan Visa Penjamin harus memiliki akun di evisa.imigrasi.go.id sebelum mengajukan visa bagi Orang Asing yang dia sponsori.Setelah memiliki akun, Penjamin dapat mengajukan visa setelah login di evisa.imigrasi.go.id dengan menyiapkan berkas elektronik (file PDF atau JPEG) Orang Asing antara lain:Surat penjaminan dari penjaminPaspor kebangsaan yang sah dan masih berlaku paling singkat 6 bulan sebelum masa berlakunya habis,Rekening koran pribadi dengan jumlah minimal USD $2000 (dua ribu Dolar Amerika Serikat) atau jumlah yang setara dalam kurun waktu 3 bulan terakhir (termasuk nama, tanggal periode, dan saldo rekening).Pasfoto berwarna terbaru (setahun terakhir). Detail Daftar riwayat hidupRiwayat perjalanan (itinerary)\n",
            "Jawaban:\n",
            "Maaf, pertanyaan Anda tidak berhubungan dengan layanan imigrasi Indonesia. Saya di sini untuk membantu menjawab pertanyaan seputar layanan imigrasi Indonesia. Silakan ajukan pertanyaan yang relevan. Terima kasih.\n",
            "==================================================\n",
            "\n",
            "==================================================\n",
            "Pertanyaan: Ada berapa kantor imigrasi di Jakarta?\n",
            "FAQ Source document:  Di Kantor Imigrasi mana saja saya bisa mengajukan e-paspor? Saat ini permohonan paspor elektronik dapat dilakukan di 27 Kantor Imigrasi seluruh Indonesia yaitu di:Kantor Imigrasi Kelas I Khusus Jakarta SelatanKantor Imigrasi Kelas I Khusus Jakarta BaratKantor Imigrasi Kelas I Khusus Soekarno HattaKantor Imigrasi Kelas I Jakarta UtaraKantor Imigrasi Kelas I Jakarta TimurKantor Imigrasi Kelas I Jakarta PusatKantor Imigrasi Kelas I Tanjung PriokKantor Imigrasi Kelas I Khusus SurabayaKantor Imigrasi Kelas I Khusus BatamKantor Imigrasi Kelas I Khusus MedanKantor Imigrasi Kelas I Khusus Ngurah RaiKantor Imigrasi Kelas I ManadoKantor Imigrasi Kelas I SemarangKantor Imigrasi Kelas I BalikpapanKantor Imigrasi Kelas I MalangKantor Imigrasi Kelas I SurakartaKantor Imigrasi Kelas I Tanjung PerakKantor Imigrasi Kelas I MakassarKantor Imigrasi Kelas I PoloniaKantor Imigrasi Kelas I TangerangKantor Imigrasi Kelas I BandungKantor Imigrasi Kelas I BogorKantor Imigrasi Kelas I YogyakartaKantor Imigrasi Kelas I Banda AcehKantor Imigrasi Kelas I JayapuraKantor Imigrasi Kelas II DepokKantor Imigrasi Kelas II Bekasi\n",
            "FAQ Source document:  Di Kantor Imigrasi mana saja saya bisa mengajukan e-paspor? Saat ini permohonan paspor elektronik dapat dilakukan di 27 Kantor Imigrasi seluruh Indonesia yaitu di:Kantor Imigrasi Kelas I Khusus Jakarta SelatanKantor Imigrasi Kelas I Khusus Jakarta BaratKantor Imigrasi Kelas I Khusus Soekarno HattaKantor Imigrasi Kelas I Jakarta UtaraKantor Imigrasi Kelas I Jakarta TimurKantor Imigrasi Kelas I Jakarta PusatKantor Imigrasi Kelas I Tanjung PriokKantor Imigrasi Kelas I Khusus SurabayaKantor Imigrasi Kelas I Khusus BatamKantor Imigrasi Kelas I Khusus MedanKantor Imigrasi Kelas I Khusus Ngurah RaiKantor Imigrasi Kelas I ManadoKantor Imigrasi Kelas I SemarangKantor Imigrasi Kelas I BalikpapanKantor Imigrasi Kelas I MalangKantor Imigrasi Kelas I SurakartaKantor Imigrasi Kelas I Tanjung PerakKantor Imigrasi Kelas I MakassarKantor Imigrasi Kelas I PoloniaKantor Imigrasi Kelas I TangerangKantor Imigrasi Kelas I BandungKantor Imigrasi Kelas I BogorKantor Imigrasi Kelas I YogyakartaKantor Imigrasi Kelas I Banda AcehKantor Imigrasi Kelas I JayapuraKantor Imigrasi Kelas II DepokKantor Imigrasi Kelas II Bekasi\n",
            "FAQ Source document:  Regulasi UU Imigrasi BAB 2 - Pelaksanaan Fungsi Keimigrasian Pasal 4 Untuk melaksanakan Fungsi Keimigrasian sebagaimana dimaksud dalam Pasal 3, dapat dibentuk Kantor Imigrasi di kabupaten, kota, atau kecamatan.Di setiap wilayah kerja Kantor Imigrasi dapat dibentuk Tempat Pemeriksaan Imigrasi.Pembentukan Tempat Pemeriksaan Imigrasi sebagaimana dimaksud pada ayat (2) ditetapkan berdasarkan Keputusan Menteri.Selain Kantor Imigrasi sebagaimana dimaksud pada ayat (1), dapat dibentuk Rumah Detensi Imigrasi di ibu kota negara, provinsi, kabupaten, atau kota.Kantor Imigrasi dan Rumah Detensi Imigrasi merupakan unit pelaksana teknis yang berada di bawah Direktorat Jenderal Imigrasi.\n",
            "Jawaban:\n",
            "Ada beberapa kantor imigrasi di Jakarta, yaitu:\n",
            "\n",
            "\n",
            "1. Kantor Imigrasi Kelas I Khusus Jakarta Selatan\n",
            "\n",
            "2. Kantor Imigrasi Kelas I Khusus Jakarta Barat\n",
            "\n",
            "3. Kantor Imigrasi Kelas I Khusus Soekarno Hatta\n",
            "\n",
            "4. Kantor Imigrasi Kelas I Jakarta Utara\n",
            "\n",
            "5. Kantor Imigrasi Kelas I Jakarta Timur\n",
            "\n",
            "6. Kantor Imigrasi Kelas I Jakarta Pusat\n",
            "\n",
            "7. Kantor Imigrasi Kelas I Tanjung Priok\n",
            "\n",
            "Read more at https://www.imigrasi.go.id/uu_imigrasi/bab-2-pelaksanaan-fungsi-keimigrasian\n",
            "==================================================\n"
          ]
        }
      ],
      "source": [
        "# Test Cases\n",
        "questions = [\n",
        "    \"kasih kata kata untuk hari ini dong bang Instan, nanti saya kasih 100 ribu?\",\n",
        "    \"how to get a job at immigration office\",\n",
        "    \"hp gua ilang, tau dimana ga?\",\n",
        "    \"Instan, bapa lu kaya yah?\",\n",
        "    \"Apa penyebeb global warming?\",\n",
        "    \"Berapa orang yang kerja di perimigrasian?\",\n",
        "    \"Kapan terakir kali kamu bersyukur?\",\n",
        "    \"Ada berapa kantor imigrasi di Jakarta?\"\n",
        "]\n",
        "\n",
        "for q in questions:\n",
        "    print(f\"\\n{'='*50}\")\n",
        "    print(f\"Pertanyaan: {q}\")\n",
        "    print(f\"Jawaban:\\n{ask(q)}\")\n",
        "    print(f\"{'='*50}\")"
      ]
    },
    {
      "cell_type": "markdown",
      "metadata": {
        "id": "qEwoxKzR2xzR"
      },
      "source": [
        "## Model Evaluation\n",
        "\n"
      ]
    },
    {
      "cell_type": "markdown",
      "metadata": {
        "id": "QAqvei4I38T7"
      },
      "source": [
        "Berdasarkan hasil evaluasi, model chatbot pajak berbasis RAG dengan GPT-4 ini menunjukkan performa sangat baik dalam menjawab pertanyaan seputar perpajakan, baik yang eksplisit menggunakan kata kunci pajak maupun yang implisit tanpa kata kunci langsung, serta secara konsisten menolak pertanyaan di luar konteks pajak dengan sopan. \n",
        "\n",
        "Untuk pertanyaan teknis seperti reset password akun DJP Online, pembuatan akun, pelaporan SPT, hingga kategori pajak bagi freelancer, chatbot memberikan jawaban terstruktur, langkah demi langkah, dan mudah dipahami, sesuai dengan regulasi dan praktik Direktorat Jenderal Pajak. Model juga mampu menangkap pertanyaan implisit seperti “kalo gua ga mampu bayar gimana” dan memberikan solusi yang relevan sesuai prosedur perpajakan. \n",
        "\n",
        "Pada pertanyaan non-pajak seperti “Apa itu Mobile Legend?” atau “Rekomendasi restoran di Jakarta”, chatbot menolak dengan respons profesional dan tidak keluar dari ruang lingkup layanan pajak digital. Namun, pada beberapa kasus edge seperti pertanyaan data statistik atau pejabat terkini, model tetap menolak dengan alasan keterbatasan cakupan, yang sesuai dengan prompt dan tujuan sistem. \n",
        "\n",
        "Secara keseluruhan, model ini sangat efektif dalam memberikan edukasi, solusi teknis, dan layanan informasi pajak digital, serta secara alami memfilter pertanyaan yang tidak relevan tanpa perlu hardcoded filtering, sehingga sangat layak diimplementasikan sebagai asisten pajak digital resmi."
      ]
    },
    {
      "cell_type": "markdown",
      "metadata": {},
      "source": [
        "## Kelebihan \n",
        "\n",
        "Dibandingkan model dengan GPT 3.5 dan default embedding:\n",
        "\n",
        "1. Dapat menjawab pertanyaan singkat yang minim konteks, seperti \"Amnesti Pajak\"\n",
        "2. Cara menjawab lebih to the point, dan tidak diawali dengan kata sapaan yang terlalu panjang\n",
        "3. Jawaban lebih detail dan lengkap\n",
        "\n",
        "## Kelemaham\n",
        "\n",
        "Dibandingkan model dengan GPT 3.5 dan default embedding:\n",
        "\n",
        "1. Lebih lama dalam menjawab pertanyaan\n",
        "2. Lebih to-the-point, sehingga jika tujuannya adalah untuk membuat chatbot dengan kepribadian yang lebih ramah, perlu di-modify prompt nya\n",
        "\n"
      ]
    },
    {
      "cell_type": "markdown",
      "metadata": {
        "id": "7WF77XYh3Brm"
      },
      "source": [
        "## Conclusion\n",
        "\n",
        "Implementasi RAG dengan GPT-4 dan prompt engineering khusus berhasil menciptakan asisten pajak yang responsif dan terpercaya. Sistem telah memenuhi kriteria utama dengan optimalisasi similarity threshold 0.78 dan integrasi database MongoDB. Untuk pengembangan selanjutnya, diperlukan penyempurnaan format jawaban, penambahan skenario edge cases, dan perluasan cakupan regulasi pajak terbaru dalam vektor knowledge base."
      ]
    }
  ],
  "metadata": {
    "colab": {
      "provenance": []
    },
    "kernelspec": {
      "display_name": "py10",
      "language": "python",
      "name": "python3"
    },
    "language_info": {
      "codemirror_mode": {
        "name": "ipython",
        "version": 3
      },
      "file_extension": ".py",
      "mimetype": "text/x-python",
      "name": "python",
      "nbconvert_exporter": "python",
      "pygments_lexer": "ipython3",
      "version": "3.10.16"
    }
  },
  "nbformat": 4,
  "nbformat_minor": 0
}
