{
  "cells": [
    {
      "cell_type": "markdown",
      "metadata": {
        "id": "og7uNBoHZ4et"
      },
      "source": [
        "# (RAG) - Vector Database"
      ]
    },
    {
      "cell_type": "markdown",
      "metadata": {
        "id": "RrfRTixw0uwo"
      },
      "source": [
        "## Import Library\n"
      ]
    },
    {
      "cell_type": "code",
      "execution_count": 24,
      "metadata": {
        "id": "5RQ6uKjGNvBe"
      },
      "outputs": [],
      "source": [
        "import pandas as pd\n",
        "import requests\n",
        "from io import BytesIO\n",
        "from pypdf import PdfReader\n",
        "from langchain.text_splitter import RecursiveCharacterTextSplitter\n",
        "from langchain_openai import OpenAIEmbeddings\n",
        "from pymongo import MongoClient\n",
        "from langchain.vectorstores import MongoDBAtlasVectorSearch\n",
        "import os\n",
        "from dotenv import load_dotenv\n",
        "from langchain_community.document_loaders import CSVLoader"
      ]
    },
    {
      "cell_type": "markdown",
      "metadata": {
        "id": "dwhHTpYe04tl"
      },
      "source": [
        "## Loading env dan Data"
      ]
    },
    {
      "cell_type": "code",
      "execution_count": 71,
      "metadata": {
        "id": "4tCOwbVGI-O-"
      },
      "outputs": [],
      "source": [
        "# Load Environment Variables\n",
        "load_dotenv(override=True)\n",
        "MONGODB_URI = os.getenv(\"MONGO_URI\")\n",
        "OPENAI_API_KEY = os.getenv(\"OPENAI_API_KEY\")"
      ]
    },
    {
      "cell_type": "code",
      "execution_count": 72,
      "metadata": {
        "id": "cPgzjD7nJJGo"
      },
      "outputs": [],
      "source": [
        "loader = CSVLoader(\n",
        "    file_path='../data/imigrasi_combined_topics_full_context.csv',\n",
        "    content_columns=[\"full_context\"], \n",
        "    metadata_columns=[\"question\", \"answer\", \"answer_link\", \"topic\", \"category\", \"type\"],\n",
        "    csv_args={'delimiter': ','}\n",
        ")\n",
        "documents = loader.load()"
      ]
    },
    {
      "cell_type": "markdown",
      "metadata": {
        "id": "L13nd6uztEZK"
      },
      "source": [
        "insight:\n",
        "- Memuat file CSV menggunakan CSVLoader\n",
        "\n",
        "- Kolom \"Answer\" sebagai konten utama\n",
        "\n",
        "- Kolom \"Question\" sebagai metadata\n",
        "\n",
        "- Menggunakan delimiter koma"
      ]
    },
    {
      "cell_type": "markdown",
      "metadata": {
        "id": "_nqcYlHVaTIA"
      },
      "source": [
        "## Splitting (chunking)"
      ]
    },
    {
      "cell_type": "code",
      "execution_count": 73,
      "metadata": {
        "id": "nQ8SRkslJ3Sn"
      },
      "outputs": [],
      "source": [
        "# Optimized Text Splitting\n",
        "text_splitter = RecursiveCharacterTextSplitter(\n",
        "    chunk_size=500, \n",
        "    chunk_overlap=100, \n",
        "    separators=[\"\\n\\n\", \"\\n\", \"(?<=\\. )\", \" \"],\n",
        "    length_function=len\n",
        ")\n",
        "chunks = text_splitter.split_documents(documents)"
      ]
    },
    {
      "cell_type": "markdown",
      "metadata": {
        "id": "BSWparHRaZeQ"
      },
      "source": [
        "## Embedding"
      ]
    },
    {
      "cell_type": "code",
      "execution_count": 74,
      "metadata": {
        "id": "Z52E3Xg-J9YQ"
      },
      "outputs": [],
      "source": [
        "# Initialize Embeddings dengan model terbaru\n",
        "embeddings = OpenAIEmbeddings(\n",
        "    model=\"text-embedding-3-small\",\n",
        "    openai_api_key=OPENAI_API_KEY,\n",
        "    dimensions=1536\n",
        ")"
      ]
    },
    {
      "cell_type": "markdown",
      "metadata": {
        "id": "7hlEb4aatwm5"
      },
      "source": [
        "Insight:\n",
        "- Menggunakan model embedding terbaru OpenAI (text-embedding-3-small)\n",
        "\n",
        "- Menghasilkan vektor 1536 dimensi untuk representasi semantik\n",
        "\n",
        "- Model yang cost-effective dengan performa tinggi"
      ]
    },
    {
      "cell_type": "markdown",
      "metadata": {
        "id": "IVkluvjWacmZ"
      },
      "source": [
        "## Load to MongoDB"
      ]
    },
    {
      "cell_type": "code",
      "execution_count": 75,
      "metadata": {
        "id": "9FmKAswaKIT8"
      },
      "outputs": [],
      "source": [
        "# MongoDB Connection\n",
        "client = MongoClient(MONGODB_URI)\n",
        "collection = client['instant_bot']['instant']"
      ]
    },
    {
      "cell_type": "markdown",
      "metadata": {
        "id": "AAjuNGSIuCq1"
      },
      "source": [
        "inisight:\n",
        "- Membuat koneksi ke cluster MongoDB Atlas\n",
        "\n",
        "- Mengakses database Astrax_db dan koleksi Astrax"
      ]
    },
    {
      "cell_type": "code",
      "execution_count": 76,
      "metadata": {
        "colab": {
          "base_uri": "https://localhost:8080/"
        },
        "id": "P3SugPNlKOSe",
        "outputId": "651af18a-ef1e-499d-8330-cca902a9a0d9"
      },
      "outputs": [
        {
          "name": "stdout",
          "output_type": "stream",
          "text": [
            "Data berhasil diunggah ke MongoDB Atlas!\n",
            "Jumlah dokumen: 1579\n",
            "Jumlah chunks: 3285\n"
          ]
        }
      ],
      "source": [
        "# remove existing collection\n",
        "collection.delete_many({})\n",
        "\n",
        "# Vector Store Setup\n",
        "vector_store = MongoDBAtlasVectorSearch.from_documents(\n",
        "    documents=chunks,\n",
        "    embedding=embeddings,\n",
        "    collection=collection,\n",
        "    index_name=\"vector_index\",\n",
        ")\n",
        "\n",
        "print(\"Data berhasil diunggah ke MongoDB Atlas!\")\n",
        "print(f\"Jumlah dokumen: {len(documents)}\")\n",
        "print(f\"Jumlah chunks: {len(chunks)}\")"
      ]
    },
    {
      "cell_type": "code",
      "execution_count": null,
      "metadata": {},
      "outputs": [
        {
          "data": {
            "text/plain": [
              "[]"
            ]
          },
          "execution_count": 68,
          "metadata": {},
          "output_type": "execute_result"
        }
      ],
      "source": [
        "# retriever = vector_store.as_retriever()\n",
        "# retriever.get_relevant_documents(\"Tidak bisa login M-Paspor\")\n",
        "\n",
        "# for i, chunk in enumerate(chunks[:3]):\n",
        "#     print(f\"Chunk {i}:\")\n",
        "#     print(\"Page content:\", chunk.page_content[:200])\n",
        "#     print(\"Metadata:\", chunk.metadata)\n",
        "#     print(\"---\")"
      ]
    }
  ],
  "metadata": {
    "colab": {
      "provenance": []
    },
    "kernelspec": {
      "display_name": "py10",
      "language": "python",
      "name": "python3"
    },
    "language_info": {
      "codemirror_mode": {
        "name": "ipython",
        "version": 3
      },
      "file_extension": ".py",
      "mimetype": "text/x-python",
      "name": "python",
      "nbconvert_exporter": "python",
      "pygments_lexer": "ipython3",
      "version": "3.10.16"
    }
  },
  "nbformat": 4,
  "nbformat_minor": 0
}
