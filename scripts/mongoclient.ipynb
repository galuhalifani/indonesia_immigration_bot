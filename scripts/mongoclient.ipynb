{
 "cells": [
  {
   "cell_type": "markdown",
   "id": "d655807f",
   "metadata": {},
   "source": [
    "# MongoDB Client"
   ]
  },
  {
   "cell_type": "code",
   "execution_count": 1,
   "id": "b70e125d",
   "metadata": {},
   "outputs": [],
   "source": [
    "# !pip install -q pymongo\n",
    "# !pip install dotenv"
   ]
  },
  {
   "cell_type": "code",
   "execution_count": 2,
   "id": "e87ee74e",
   "metadata": {},
   "outputs": [
    {
     "data": {
      "text/plain": [
       "'4.12.0'"
      ]
     },
     "execution_count": 2,
     "metadata": {},
     "output_type": "execute_result"
    }
   ],
   "source": [
    "from dotenv import load_dotenv\n",
    "import os\n",
    "import pymongo\n",
    "pymongo.__version__"
   ]
  },
  {
   "cell_type": "code",
   "execution_count": 25,
   "id": "3360e647",
   "metadata": {},
   "outputs": [],
   "source": [
    "# Define URI\n",
    "load_dotenv(override=True)\n",
    "URI=os.getenv(\"MONGO_URI\")"
   ]
  },
  {
   "cell_type": "code",
   "execution_count": 26,
   "id": "d2b45ca8",
   "metadata": {},
   "outputs": [
    {
     "name": "stdout",
     "output_type": "stream",
     "text": [
      "Connected successfully\n"
     ]
    }
   ],
   "source": [
    "# Test connection\n",
    "\n",
    "import pymongo.server_api\n",
    "\n",
    "\n",
    "client = pymongo.MongoClient(URI, server_api=pymongo.server_api.ServerApi(version=\"1\", strict=True, deprecation_errors=True))\n",
    "\n",
    "try:\n",
    "    client.admin.command(\"ping\")\n",
    "    print(\"Connected successfully\")\n",
    "\n",
    "    client.close()\n",
    "except Exception as e:\n",
    "    raise Exception(\"The following error occured: \", e)"
   ]
  },
  {
   "cell_type": "markdown",
   "id": "78f31398",
   "metadata": {},
   "source": [
    "# New Database"
   ]
  },
  {
   "cell_type": "code",
   "execution_count": 27,
   "id": "aeb8e089",
   "metadata": {},
   "outputs": [
    {
     "data": {
      "text/plain": [
       "['admin', 'local']"
      ]
     },
     "execution_count": 27,
     "metadata": {},
     "output_type": "execute_result"
    }
   ],
   "source": [
    "client = pymongo.MongoClient(URI, server_api=pymongo.server_api.ServerApi(version=\"1\", strict=True, deprecation_errors=True))\n",
    "client.list_database_names()"
   ]
  },
  {
   "cell_type": "code",
   "execution_count": 28,
   "id": "1570f655",
   "metadata": {},
   "outputs": [],
   "source": [
    "db = client['instant_bot']\n",
    "collection = db['instant']"
   ]
  }
 ],
 "metadata": {
  "kernelspec": {
   "display_name": "py10",
   "language": "python",
   "name": "python3"
  },
  "language_info": {
   "codemirror_mode": {
    "name": "ipython",
    "version": 3
   },
   "file_extension": ".py",
   "mimetype": "text/x-python",
   "name": "python",
   "nbconvert_exporter": "python",
   "pygments_lexer": "ipython3",
   "version": "3.10.16"
  }
 },
 "nbformat": 4,
 "nbformat_minor": 5
}
